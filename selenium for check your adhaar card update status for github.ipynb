{
 "cells": [
  {
   "cell_type": "markdown",
   "metadata": {},
   "source": [
    "# <font size = \"12\">Adhaar card update status code"
   ]
  },
  {
   "cell_type": "code",
   "execution_count": null,
   "metadata": {},
   "outputs": [],
   "source": [
    "from selenium import webdriver\n",
    "import pytesseract\n",
    "from urllib.request import urlretrieve\n",
    "from time import sleep\n",
    "import string\n",
    "from selenium.common.exceptions import NoSuchElementException"
   ]
  },
  {
   "cell_type": "code",
   "execution_count": null,
   "metadata": {},
   "outputs": [],
   "source": [
    "browser = webdriver.Firefox(executable_path=r'E:\\practice\\geckodriver.exe')\n",
    "pytesseract.pytesseract.tesseract_cmd = r\"E:\\practice\\tesseract-4.0.0-alpha\\tesseract.exe\"\n",
    "browser.set_window_position(763, 0)\n",
    "browser.set_window_size(778, 829)\n",
    "browser.get('https://ssup.uidai.gov.in/checkSSUPStatus/checkupdatestatus')\n",
    "sleep(3)"
   ]
  },
  {
   "cell_type": "code",
   "execution_count": null,
   "metadata": {},
   "outputs": [],
   "source": [
    "fill_adhaar_no = browser.find_element_by_css_selector('#aadhaar-number-input')\n",
    "fill_adhaar_no.send_keys('123456780912')  # your adhaar number\n",
    "Fill_URN = browser.find_element_by_css_selector('#urnnumber')\n",
    "Fill_URN.send_keys('12345678901234')# your urn number"
   ]
  },
  {
   "cell_type": "code",
   "execution_count": null,
   "metadata": {},
   "outputs": [],
   "source": [
    "def getcaptcha():\n",
    "    sleep(1)\n",
    "    capta_image = browser.find_element_by_css_selector('#imgCaptcha')\n",
    "    urlretrieve(capta_image.get_attribute('src'), \"test.jpg\")\n",
    "    global cptext\n",
    "    cptext = pytesseract.image_to_string(\"test.jpg\")\n",
    "    captvalue = [0 for v in cptext if (v in string.printable[62:])]\n",
    "    if len(cptext)==5 and all(captvalue):\n",
    "        return cptext\n",
    "    else:\n",
    "        browser.find_element_by_css_selector('.refreshIcon').click()\n",
    "        sleep(1)\n",
    "        getcaptcha()\n",
    "        \n",
    "captaselect = browser.find_element_by_css_selector('#captcha-verification')\n",
    "#captaselect.clear()\n",
    "try:\n",
    "    captaselect.send_keys(getcaptcha())\n",
    "except TypeError or ValueError or TypeError:\n",
    "    sleep(3)\n",
    "    captaselect.send_keys(getcaptcha())\n",
    "browser.find_element_by_css_selector('.r-width-300').click()\n",
    "try:\n",
    "    error = browser.find_element_by_css_selector('#errId')\n",
    "    if error.text == \"Please fill correct captcha\":\n",
    "        captaselect.send_keys(getcaptcha())\n",
    "        browser.find_element_by_css_selector('.r-width-300').click()\n",
    "    if error.text == \"Please enter a valid URN No.\":\n",
    "        print(error.text)\n",
    "    print(cptext)\n",
    "except NoSuchElementException as nse:\n",
    "    print(nse)\n",
    "def newcaptcha():\n",
    "    capta_image = browser.find_element_by_css_selector('#imgCaptcha')\n",
    "    urlretrieve(capta_image.get_attribute('src'), \"test.jpg\")\n",
    "    print(\"new Captcha : \", pytesseract.image_to_string(\"test.jpg\"))\n",
    "newcaptcha()"
   ]
  },
  {
   "cell_type": "code",
   "execution_count": null,
   "metadata": {},
   "outputs": [],
   "source": [
    "browser.close()"
   ]
  },
  {
   "cell_type": "markdown",
   "metadata": {},
   "source": [
    "# <font size =\"6\">Check if mobile no is updated"
   ]
  },
  {
   "cell_type": "code",
   "execution_count": null,
   "metadata": {},
   "outputs": [],
   "source": [
    "from selenium import webdriver\n",
    "import pytesseract\n",
    "from urllib.request import urlretrieve\n",
    "from time import sleep\n",
    "import string\n",
    "from selenium.common.exceptions import NoSuchElementException\n",
    "from selenium.webdriver.common.keys import Keys"
   ]
  },
  {
   "cell_type": "code",
   "execution_count": null,
   "metadata": {},
   "outputs": [],
   "source": [
    "browser = webdriver.Firefox(executable_path=r'E:\\practice\\geckodriver.exe')\n",
    "pytesseract.pytesseract.tesseract_cmd = r\"E:\\practice\\tesseract-4.0.0-alpha\\tesseract.exe\"\n",
    "browser.set_window_position(763, 0)\n",
    "browser.set_window_size(778, 829)\n",
    "#browser.find_element_by_tag_name('body').send_keys(Keys.CONTROL + 't')\n",
    "browser.get('https://resident.uidai.gov.in/verify-email-mobile')\n",
    "sleep(3)"
   ]
  },
  {
   "cell_type": "code",
   "execution_count": null,
   "metadata": {},
   "outputs": [],
   "source": [
    "fill_adhaar_no = browser.find_element_by_css_selector('#verify_uidno')\n",
    "fill_adhaar_no.send_keys('123456780912') # your adhaar number\n",
    "Fill_NO = browser.find_element_by_css_selector('#verify_mobile')\n",
    "Fill_NO.send_keys('9999999999') # your mobile number"
   ]
  },
  {
   "cell_type": "code",
   "execution_count": null,
   "metadata": {},
   "outputs": [],
   "source": [
    "def getcaptcha():\n",
    "    sleep(1)\n",
    "    capta_image = browser.find_element_by_css_selector('#captcha-img')\n",
    "    urlretrieve(capta_image.get_attribute('src'), \"test.jpg\")\n",
    "    global cptext\n",
    "    cptext = pytesseract.image_to_string(\"test.jpg\")\n",
    "    captvalue = [0 for v in cptext if (v in string.printable[62:])]\n",
    "    if len(cptext)==5 and all(captvalue):\n",
    "        return cptext\n",
    "    else:\n",
    "        browser.refresh()\n",
    "        browser.switch_to.alert.accept()\n",
    "        sleep(5)\n",
    "        getcaptcha()\n",
    "        \n",
    "captaselect = browser.find_element_by_css_selector('#security_code')\n",
    "#captaselect.clear()\n",
    "try:\n",
    "    captaselect.send_keys(getcaptcha())\n",
    "except TypeError or ValueError or TypeError:\n",
    "    sleep(3)\n",
    "    captaselect.send_keys(getcaptcha())\n",
    "browser.find_element_by_css_selector('#smt_btn').click()\n",
    "try:\n",
    "    error = browser.find_element_by_css_selector('.alert-message')\n",
    "    if error.text == \"Please fill correct captcha\":\n",
    "        captaselect.send_keys(getcaptcha())\n",
    "        browser.find_element_by_css_selector('#smt_btn').click()\n",
    "    if error.text == \"Please enter a valid URN No.\":\n",
    "        print(error.text)\n",
    "    print(cptext)\n",
    "except NoSuchElementException as nse:\n",
    "    print(nse)\n",
    "def newcaptcha():\n",
    "    capta_image = browser.find_element_by_css_selector(\"#captcha-img\")\n",
    "    urlretrieve(capta_image.get_attribute('src'), \"test.jpg\")\n",
    "    print(\"new Captcha : \", pytesseract.image_to_string(\"test.jpg\"))\n",
    "newcaptcha()"
   ]
  },
  {
   "cell_type": "code",
   "execution_count": null,
   "metadata": {},
   "outputs": [],
   "source": [
    "def newcaptcha():\n",
    "    capta_image = browser.find_element_by_id(\"captcha-img\")\n",
    "    urlretrieve(capta_image.get_attribute('src'), \"test.jpg\")\n",
    "    print(\"new Captcha : \", pytesseract.image_to_string(\"test.jpg\"))\n",
    "newcaptcha()"
   ]
  },
  {
   "cell_type": "code",
   "execution_count": null,
   "metadata": {},
   "outputs": [],
   "source": [
    "browser.find_element_by_css_selector('#refresh-captcha > i:nth-child(1)').click()"
   ]
  },
  {
   "cell_type": "code",
   "execution_count": null,
   "metadata": {},
   "outputs": [],
   "source": [
    "browser.refresh()"
   ]
  },
  {
   "cell_type": "code",
   "execution_count": null,
   "metadata": {},
   "outputs": [],
   "source": [
    "browser.switch_to.alert.accept()"
   ]
  },
  {
   "cell_type": "code",
   "execution_count": null,
   "metadata": {},
   "outputs": [],
   "source": [
    "browser.close()"
   ]
  }
 ],
 "metadata": {
  "kernelspec": {
   "display_name": "Python 3",
   "language": "python",
   "name": "python3"
  },
  "language_info": {
   "codemirror_mode": {
    "name": "ipython",
    "version": 3
   },
   "file_extension": ".py",
   "mimetype": "text/x-python",
   "name": "python",
   "nbconvert_exporter": "python",
   "pygments_lexer": "ipython3",
   "version": "3.6.4"
  }
 },
 "nbformat": 4,
 "nbformat_minor": 2
}
