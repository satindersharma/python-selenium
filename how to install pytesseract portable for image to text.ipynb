{
 "cells": [
  {
   "cell_type": "code",
   "execution_count": null,
   "metadata": {},
   "outputs": [],
   "source": [
    "import pytesseract"
   ]
  },
  {
   "cell_type": "markdown",
   "metadata": {},
   "source": [
    "<font size =\"4\"><pre>get the portable version \n",
    "https://uc644b9496b88c939048f7b29621.dl.dropboxusercontent.com/cd/0/get/AqN9VgvWFtv9nat3GY-VWDzJCxNY80SmkuRgnwalNHnaOr6S_hhfirjlaX9WkXBNx-GdStmuOEK1AnOOaNpoOOK-dgLSBn7X9XnKkbqAO0qw_w/file?dl=1#\n",
    "\n",
    "extraict and place it somwhere \n",
    "in my case i place it into E:\\practice\\"
   ]
  },
  {
   "cell_type": "code",
   "execution_count": null,
   "metadata": {},
   "outputs": [],
   "source": [
    "pytesseract.pytesseract.tesseract_cmd = r\"E:\\practice\\tesseract-4.0.0-alpha\\tesseract.exe\""
   ]
  },
  {
   "cell_type": "markdown",
   "metadata": {},
   "source": [
    "<font size =\"4\"><pre>get the portable version for tesseract ocr\n",
    "https://excellmedia.dl.sourceforge.net/project/tesseract-ocr-alt/tesseract-ocr-3.02.eng.tar.gz"
   ]
  },
  {
   "cell_type": "markdown",
   "metadata": {},
   "source": [
    "<font size =\"4\"><pre>in tesseract-ocr-3.02.eng.tar\n",
    "rename tesseract-ocr to Tesseract-OCR\n",
    "and place this to\n",
    "C:\\Program Files (x86)\\Tesseract-OCR\\tessdata\n",
    "\n",
    "set the sysetme variables (in environment variabe)\n",
    "TESSDATA_PREFIX\n",
    "C:\\Program Files (x86)\\Tesseract-OCR\\tessdata"
   ]
  }
 ],
 "metadata": {
  "kernelspec": {
   "display_name": "Python 3",
   "language": "python",
   "name": "python3"
  },
  "language_info": {
   "codemirror_mode": {
    "name": "ipython",
    "version": 3
   },
   "file_extension": ".py",
   "mimetype": "text/x-python",
   "name": "python",
   "nbconvert_exporter": "python",
   "pygments_lexer": "ipython3",
   "version": "3.6.4"
  }
 },
 "nbformat": 4,
 "nbformat_minor": 2
}
